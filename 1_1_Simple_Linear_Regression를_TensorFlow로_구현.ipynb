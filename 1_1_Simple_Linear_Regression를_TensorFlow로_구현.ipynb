{
  "nbformat": 4,
  "nbformat_minor": 0,
  "metadata": {
    "colab": {
      "name": "1 - 1.Simple Linear Regression를 TensorFlow로 구현",
      "provenance": [],
      "collapsed_sections": [],
      "authorship_tag": "ABX9TyNNpKy4xH+wGhcLqsj51GYI",
      "include_colab_link": true
    },
    "kernelspec": {
      "name": "python3",
      "display_name": "Python 3"
    },
    "language_info": {
      "name": "python"
    }
  },
  "cells": [
    {
      "cell_type": "markdown",
      "metadata": {
        "id": "view-in-github",
        "colab_type": "text"
      },
      "source": [
        "<a href=\"https://colab.research.google.com/github/sy-k-98/tensorflow_practice/blob/main/1_1_Simple_Linear_Regression%EB%A5%BC_TensorFlow%EB%A1%9C_%EA%B5%AC%ED%98%84.ipynb\" target=\"_parent\"><img src=\"https://colab.research.google.com/assets/colab-badge.svg\" alt=\"Open In Colab\"/></a>"
      ]
    },
    {
      "cell_type": "code",
      "execution_count": 1,
      "metadata": {
        "colab": {
          "base_uri": "https://localhost:8080/"
        },
        "id": "MCkpmCwusGlP",
        "outputId": "de0c38c6-f083-4db0-aa78-8052ae1979c8"
      },
      "outputs": [
        {
          "output_type": "stream",
          "name": "stdout",
          "text": [
            "2.7.0\n"
          ]
        }
      ],
      "source": [
        "import tensorflow as tf\n",
        "import numpy as np\n",
        "\n",
        "print(tf.__version__)"
      ]
    },
    {
      "cell_type": "markdown",
      "source": [
        "$$ H(x) = Wx + b $$"
      ],
      "metadata": {
        "id": "MA5s9vP_-c-r"
      }
    },
    {
      "cell_type": "code",
      "source": [
        "x_data = [1, 2, 3, 4, 5]\n",
        "y_data = [1, 2, 3, 4, 5]\n",
        "\n",
        "W = tf.Variable(2.9)\n",
        "b = tf.Variable(0.5)\n",
        "\n",
        "# hypothesis = W * x + b\n",
        "hypothesis = W * x_data + b"
      ],
      "metadata": {
        "id": "cJhS4J_--lpz"
      },
      "execution_count": 2,
      "outputs": []
    },
    {
      "cell_type": "markdown",
      "source": [
        "$$ cost(W)=\\frac { 1 }{ m } \\sum _{i=1}^{m}{ { (W{ x }^{ i }-y^{ i } })^{ 2 } }  $$"
      ],
      "metadata": {
        "id": "tgRNjvnX-oC9"
      }
    },
    {
      "cell_type": "code",
      "source": [
        "cost = tf.reduce_mean(tf.square(hypothesis - y_data))"
      ],
      "metadata": {
        "id": "9kXjOOtX-pHS"
      },
      "execution_count": 3,
      "outputs": []
    },
    {
      "cell_type": "code",
      "source": [
        "# tf.reduce_mean() : 간단히 말하자면 차원이 하나 줄어든다\n",
        "v = [1., 2., 3., 4. ]\n",
        "tf.reduce_mean(v) # 2.5"
      ],
      "metadata": {
        "colab": {
          "base_uri": "https://localhost:8080/"
        },
        "id": "EpvzK2Bn_GGI",
        "outputId": "cd25e3bc-a05e-460a-bec4-df7b42b9a1eb"
      },
      "execution_count": 4,
      "outputs": [
        {
          "output_type": "execute_result",
          "data": {
            "text/plain": [
              "<tf.Tensor: shape=(), dtype=float32, numpy=2.5>"
            ]
          },
          "metadata": {},
          "execution_count": 4
        }
      ]
    },
    {
      "cell_type": "code",
      "source": [
        "# tf.square() : 넘겨 받은 값을 제곱\n",
        "tf.square(3) # 9"
      ],
      "metadata": {
        "colab": {
          "base_uri": "https://localhost:8080/"
        },
        "id": "7ciNOAXR_bNW",
        "outputId": "079a9148-a586-485e-c7b7-813d1a6578d2"
      },
      "execution_count": 5,
      "outputs": [
        {
          "output_type": "execute_result",
          "data": {
            "text/plain": [
              "<tf.Tensor: shape=(), dtype=int32, numpy=9>"
            ]
          },
          "metadata": {},
          "execution_count": 5
        }
      ]
    },
    {
      "cell_type": "markdown",
      "source": [
        "# Gradient descent\n",
        "### minimize  cost(W, b)"
      ],
      "metadata": {
        "id": "wh_vSsBu_nuI"
      }
    },
    {
      "cell_type": "code",
      "source": [
        "# learning_rate initialize\n",
        "learning_rate = 0.01\n",
        "\n",
        "# Gradient descent\n",
        "with tf.GradientTape() as tape:\n",
        "    hypothesis = W * x_data + b\n",
        "    cost = tf.reduce_mean(tf.square(hypothesis - y_data))\n",
        "\n",
        "W_grad, b_grad = tape.gradient(cost, [W, b])\n",
        "\n",
        "# A.assign_sub(B) => A -= B\n",
        "W.assign_sub(learning_rate * W_grad)\n",
        "b.assign_sub(learning_rate * b_grad)\n",
        "\n",
        "## 이것이 한번만 진행된 업데이트"
      ],
      "metadata": {
        "colab": {
          "base_uri": "https://localhost:8080/"
        },
        "id": "OvCT3ZFY_2gp",
        "outputId": "1d2295f1-90db-4b6a-9f24-9873d0b4546b"
      },
      "execution_count": 6,
      "outputs": [
        {
          "output_type": "execute_result",
          "data": {
            "text/plain": [
              "<tf.Variable 'UnreadVariable' shape=() dtype=float32, numpy=0.376>"
            ]
          },
          "metadata": {},
          "execution_count": 6
        }
      ]
    },
    {
      "cell_type": "code",
      "source": [
        "import tensorflow as tf\n",
        "import numpy as np\n",
        "\n",
        "# Data\n",
        "x_data = [1, 2, 3, 4, 5]\n",
        "y_data = [1, 2, 3, 4, 5]\n",
        "\n",
        "# W, b initialize\n",
        "W = tf.Variable(2.9)\n",
        "b = tf.Variable(0.5)\n",
        "\n",
        "learning_rate = 0.01\n",
        "\n",
        "for i in range(100): # W, b update\n",
        "    # Gradient descent\n",
        "    with tf.GradientTape() as tape:\n",
        "        hypothesis = W * x_data + b\n",
        "        cost = tf.reduce_mean(tf.square(hypothesis - y_data))\n",
        "    W_grad, b_grad = tape.gradient(cost, [W, b])\n",
        "    W.assign_sub(learning_rate * W_grad)\n",
        "    b.assign_sub(learning_rate * b_grad)\n",
        "    \n",
        "    if i % 10 == 0:\n",
        "      print(\"{:5}|{:10.4f}|{:10.4f}|{:10.6f}\".format(i, W.numpy(), b.numpy(), cost))"
      ],
      "metadata": {
        "colab": {
          "base_uri": "https://localhost:8080/"
        },
        "id": "w3Km2N-uB9tN",
        "outputId": "18b7489b-5fc0-4142-86da-68d40a4ea1fa"
      },
      "execution_count": 10,
      "outputs": [
        {
          "output_type": "stream",
          "name": "stdout",
          "text": [
            "    0|    2.4520|    0.3760| 45.660004\n",
            "   10|    1.1036|    0.0034|  0.206336\n",
            "   20|    1.0128|   -0.0209|  0.001026\n",
            "   30|    1.0065|   -0.0218|  0.000093\n",
            "   40|    1.0059|   -0.0212|  0.000083\n",
            "   50|    1.0057|   -0.0205|  0.000077\n",
            "   60|    1.0055|   -0.0198|  0.000072\n",
            "   70|    1.0053|   -0.0192|  0.000067\n",
            "   80|    1.0051|   -0.0185|  0.000063\n",
            "   90|    1.0050|   -0.0179|  0.000059\n"
          ]
        }
      ]
    },
    {
      "cell_type": "code",
      "source": [
        "# predict\n",
        "print(W * 5 + b)\n",
        "print(W * 2.5 + b)"
      ],
      "metadata": {
        "colab": {
          "base_uri": "https://localhost:8080/"
        },
        "id": "CtCMkVnbDjf9",
        "outputId": "6aa6807a-babd-4eba-f406-07a5b8dc0d48"
      },
      "execution_count": 11,
      "outputs": [
        {
          "output_type": "stream",
          "name": "stdout",
          "text": [
            "tf.Tensor(5.0066934, shape=(), dtype=float32)\n",
            "tf.Tensor(2.4946523, shape=(), dtype=float32)\n"
          ]
        }
      ]
    }
  ]
}