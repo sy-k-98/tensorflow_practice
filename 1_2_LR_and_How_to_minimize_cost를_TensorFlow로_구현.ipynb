{
  "nbformat": 4,
  "nbformat_minor": 0,
  "metadata": {
    "colab": {
      "name": "1 - 2. LR and How to minimize cost를 TensorFlow로 구현.ipynb",
      "provenance": [],
      "collapsed_sections": [],
      "authorship_tag": "ABX9TyMsGW1qwQC4PynucApQRTem",
      "include_colab_link": true
    },
    "kernelspec": {
      "name": "python3",
      "display_name": "Python 3"
    },
    "language_info": {
      "name": "python"
    }
  },
  "cells": [
    {
      "cell_type": "markdown",
      "metadata": {
        "id": "view-in-github",
        "colab_type": "text"
      },
      "source": [
        "<a href=\"https://colab.research.google.com/github/sy-k-98/tensorflow_practice/blob/main/1_2_LR_and_How_to_minimize_cost%EB%A5%BC_TensorFlow%EB%A1%9C_%EA%B5%AC%ED%98%84.ipynb\" target=\"_parent\"><img src=\"https://colab.research.google.com/assets/colab-badge.svg\" alt=\"Open In Colab\"/></a>"
      ]
    },
    {
      "cell_type": "code",
      "source": [
        "import tensorflow as tf\n",
        "import numpy as np"
      ],
      "metadata": {
        "id": "gpKUAlxYIw_E"
      },
      "execution_count": 3,
      "outputs": []
    },
    {
      "cell_type": "markdown",
      "source": [
        "# Cost function in pure Python\n",
        "$$ cost(W)=\\frac { 1 }{ m } \\sum _{i=1}^{m}{ { (W{ x }^{ i }-y^{ i } })^{ 2 } }  $$\n"
      ],
      "metadata": {
        "id": "mUCJUopDEx5n"
      }
    },
    {
      "cell_type": "code",
      "execution_count": 4,
      "metadata": {
        "colab": {
          "base_uri": "https://localhost:8080/"
        },
        "id": "O6Eq5rVBEL9L",
        "outputId": "40a86cc0-f7cf-469a-9783-a6bbe18e7f3c"
      },
      "outputs": [
        {
          "output_type": "stream",
          "name": "stdout",
          "text": [
            "-3.000 |   74.66667\n",
            "-2.429 |   54.85714\n",
            "-1.857 |   38.09524\n",
            "-1.286 |   24.38095\n",
            "-0.714 |   13.71429\n",
            "-0.143 |    6.09524\n",
            " 0.429 |    1.52381\n",
            " 1.000 |    0.00000\n",
            " 1.571 |    1.52381\n",
            " 2.143 |    6.09524\n",
            " 2.714 |   13.71429\n",
            " 3.286 |   24.38095\n",
            " 3.857 |   38.09524\n",
            " 4.429 |   54.85714\n",
            " 5.000 |   74.66667\n"
          ]
        }
      ],
      "source": [
        "import numpy as np\n",
        "\n",
        "X = np.array([1, 2, 3])\n",
        "Y = np.array([1, 2, 3])\n",
        "\n",
        "def cost_func(W, X, Y):\n",
        "    c = 0\n",
        "    for i in range(len(X)):\n",
        "        c += (W * X[i] - Y[i]) ** 2\n",
        "    return c / len(X) # 평균 = cost\n",
        "\n",
        "for feed_W in np.linspace(-3, 5, num=15):\n",
        "    curr_cost = cost_func(feed_W, X, Y)\n",
        "    print(\"{:6.3f} | {:10.5f}\".format(feed_W, curr_cost))"
      ]
    },
    {
      "cell_type": "markdown",
      "source": [
        "# Cost function in TensorFlow\n",
        "$$ cost(W)=\\frac { 1 }{ m } \\sum _{i=1}^{m}{ { (W{ x }^{ i }-y^{ i } })^{ 2 } }  $$\n"
      ],
      "metadata": {
        "id": "flbLkDC5HqhG"
      }
    },
    {
      "cell_type": "code",
      "source": [
        "X = np.array([1, 2, 3])\n",
        "Y = np.array([1, 2, 3])\n",
        "\n",
        "def cost_func(W, X, Y):\n",
        "  hypothesis = X * W\n",
        "  \n",
        "  return tf.reduce_mean(tf.square(hypothesis - Y))\n",
        "\n",
        "W_values = np.linspace(-3, 5, num=15)\n",
        "cost_values = []\n",
        "\n",
        "for feed_W in W_values:\n",
        "    curr_cost = cost_func(feed_W, X, Y)\n",
        "    cost_values.append(curr_cost)\n",
        "    print(\"{:6.3f} | {:10.5f}\".format(feed_W, curr_cost))"
      ],
      "metadata": {
        "colab": {
          "base_uri": "https://localhost:8080/"
        },
        "id": "NAXGuutcHt80",
        "outputId": "5e64b357-c4f8-4588-9331-ade10f72a576"
      },
      "execution_count": 5,
      "outputs": [
        {
          "output_type": "stream",
          "name": "stdout",
          "text": [
            "-3.000 |   74.66667\n",
            "-2.429 |   54.85714\n",
            "-1.857 |   38.09524\n",
            "-1.286 |   24.38095\n",
            "-0.714 |   13.71429\n",
            "-0.143 |    6.09524\n",
            " 0.429 |    1.52381\n",
            " 1.000 |    0.00000\n",
            " 1.571 |    1.52381\n",
            " 2.143 |    6.09524\n",
            " 2.714 |   13.71429\n",
            " 3.286 |   24.38095\n",
            " 3.857 |   38.09524\n",
            " 4.429 |   54.85714\n",
            " 5.000 |   74.66667\n"
          ]
        }
      ]
    },
    {
      "cell_type": "markdown",
      "source": [
        "# Gradient descent\n",
        "\n",
        "$$ cost(W)=\\frac { 1 }{ m } \\sum _{i=1}^{m}{ { (W{ x }^{ i }-y^{ i } })^{ 2 } }  $$\n",
        "\n",
        "$$ W:=W-\\alpha \\frac { 1 }{ m } \\sum _{ i=1 }^{ m }{ { (W{ x }^{ i }-y^{ i } })x^{ i } }  $$"
      ],
      "metadata": {
        "id": "Ihp1G8wpIVtg"
      }
    },
    {
      "cell_type": "code",
      "source": [
        "tf.random.set_seed(0)  # for reproducibility\n",
        "\n",
        "x_data = [1., 2., 3., 4.]\n",
        "y_data = [1., 3., 5., 7.]\n",
        "\n",
        "W = tf.Variable(tf.random.normal((1,), -100., 100.)) # 어떤 값을 하던 결국 특정값에 수렴함\n",
        "\n",
        "for step in range(300):\n",
        "    hypothesis = W * X\n",
        "    cost = tf.reduce_mean(tf.square(hypothesis - Y))\n",
        "\n",
        "    alpha = 0.01\n",
        "    gradient = tf.reduce_mean(tf.multiply(tf.multiply(W, X) - Y, X))\n",
        "    descent = W - tf.multiply(alpha, gradient)\n",
        "    W.assign(descent)\n",
        "    \n",
        "    if step % 10 == 0:\n",
        "        print('{:5} | {:10.4f} | {:10.6f}'.format(\n",
        "            step, cost.numpy(), W.numpy()[0]))\n",
        "        \n"
      ],
      "metadata": {
        "colab": {
          "base_uri": "https://localhost:8080/"
        },
        "id": "QuYRKbI4IfyI",
        "outputId": "7016d603-dc69-472a-8dd4-1e07d0be85f0"
      },
      "execution_count": 7,
      "outputs": [
        {
          "output_type": "stream",
          "name": "stdout",
          "text": [
            "    0 | 11716.3086 |  48.767971\n",
            "   10 |  4504.9126 |  30.619968\n",
            "   20 |  1732.1364 |  19.366755\n",
            "   30 |   666.0052 |  12.388859\n",
            "   40 |   256.0785 |   8.062004\n",
            "   50 |    98.4620 |   5.379007\n",
            "   60 |    37.8586 |   3.715335\n",
            "   70 |    14.5566 |   2.683725\n",
            "   80 |     5.5970 |   2.044044\n",
            "   90 |     2.1520 |   1.647391\n",
            "  100 |     0.8275 |   1.401434\n",
            "  110 |     0.3182 |   1.248922\n",
            "  120 |     0.1223 |   1.154351\n",
            "  130 |     0.0470 |   1.095710\n",
            "  140 |     0.0181 |   1.059348\n",
            "  150 |     0.0070 |   1.036801\n",
            "  160 |     0.0027 |   1.022819\n",
            "  170 |     0.0010 |   1.014150\n",
            "  180 |     0.0004 |   1.008774\n",
            "  190 |     0.0002 |   1.005441\n",
            "  200 |     0.0001 |   1.003374\n",
            "  210 |     0.0000 |   1.002092\n",
            "  220 |     0.0000 |   1.001297\n",
            "  230 |     0.0000 |   1.000804\n",
            "  240 |     0.0000 |   1.000499\n",
            "  250 |     0.0000 |   1.000309\n",
            "  260 |     0.0000 |   1.000192\n",
            "  270 |     0.0000 |   1.000119\n",
            "  280 |     0.0000 |   1.000074\n",
            "  290 |     0.0000 |   1.000046\n"
          ]
        }
      ]
    }
  ]
}